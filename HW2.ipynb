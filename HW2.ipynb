{
 "cells": [
  {
   "cell_type": "code",
   "execution_count": null,
   "metadata": {
    "collapsed": true,
    "pycharm": {
     "is_executing": true
    }
   },
   "outputs": [],
   "source": [
    "# Homework 2"
   ]
  },
  {
   "cell_type": "markdown",
   "metadata": {
    "pycharm": {
     "is_executing": true,
     "name": "#%%\n"
    }
   },
   "source": [
    "## Abstract\n",
    "\n",
    "This solution reviews publicly [available salary information](https://data.cityofchicago.org/Administration-Finance/Current-Employee-Names-Salaries-and-Position-Title/xzkq-xp2w) of employees as published by the [City of Chicago's Data Portal](https://data.cityofchicago.org/).\n",
    "\n"
   ]
  },
  {
   "cell_type": "markdown",
   "metadata": {},
   "source": [
    "## Getting Data\n",
    "\n",
    "This solution uses [Requests](https://requests.readthedocs.io/en/master/user/quickstart/#json-response-content) to make HTTP API requests.\n",
    "\n",
    "Data is fetched from the City of Chicago's open data portal - https://data.cityofchicago.org/resource/xzkq-xp2w.json?$limit=50000\n",
    "\n",
    "The url above includes a querystring parameter `$limit` to ensure the full data set of ~33,000 records is retrieved.  "
   ]
  },
  {
   "cell_type": "code",
   "execution_count": 15,
   "metadata": {
    "pycharm": {
     "is_executing": true,
     "name": "#%%\n"
    }
   },
   "outputs": [
    {
     "name": "stdout",
     "output_type": "stream",
     "text": [
      "\r\n",
      "CondaValueError: The target prefix is the base prefix. Aborting.\r\n",
      "\r\n"
     ]
    }
   ],
   "source": [
    "## create conda environment\n",
    "import sys\n",
    "!conda create --yes --prefix {sys.prefix}"
   ]
  },
  {
   "cell_type": "code",
   "execution_count": 16,
   "metadata": {
    "pycharm": {
     "is_executing": true,
     "name": "#%%\n"
    }
   },
   "outputs": [
    {
     "name": "stdout",
     "output_type": "stream",
     "text": [
      "Collecting package metadata (current_repodata.json): done\n",
      "Solving environment: done\n",
      "\n",
      "# All requested packages already installed.\n",
      "\n"
     ]
    }
   ],
   "source": [
    "## install requests package\n",
    "import sys\n",
    "!conda install -c conda-forge --yes --prefix {sys.prefix} requests"
   ]
  },
  {
   "cell_type": "code",
   "execution_count": 94,
   "metadata": {
    "pycharm": {
     "is_executing": true,
     "name": "#%%\n"
    }
   },
   "outputs": [
    {
     "name": "stdout",
     "output_type": "stream",
     "text": [
      "HTTP Status Code: 200\n",
      "Wed, 29 Jul 2020 21:14:14 GMT\n",
      "[\"name\",\"job_titles\",\"department\",\"full_or_part_time\",\"salary_or_hourly\",\"typical_hours\",\"annual_salary\",\"hourly_rate\"]\n",
      "[\"text\",\"text\",\"text\",\"text\",\"text\",\"number\",\"number\",\"number\"]\n"
     ]
    },
    {
     "data": {
      "text/html": [
       "<div>\n",
       "<style scoped>\n",
       "    .dataframe tbody tr th:only-of-type {\n",
       "        vertical-align: middle;\n",
       "    }\n",
       "\n",
       "    .dataframe tbody tr th {\n",
       "        vertical-align: top;\n",
       "    }\n",
       "\n",
       "    .dataframe thead th {\n",
       "        text-align: right;\n",
       "    }\n",
       "</style>\n",
       "<table border=\"1\" class=\"dataframe\">\n",
       "  <thead>\n",
       "    <tr style=\"text-align: right;\">\n",
       "      <th></th>\n",
       "      <th>name</th>\n",
       "      <th>job_titles</th>\n",
       "      <th>department</th>\n",
       "      <th>full_or_part_time</th>\n",
       "      <th>salary_or_hourly</th>\n",
       "      <th>annual_salary</th>\n",
       "      <th>typical_hours</th>\n",
       "      <th>hourly_rate</th>\n",
       "    </tr>\n",
       "  </thead>\n",
       "  <tbody>\n",
       "    <tr>\n",
       "      <th>0</th>\n",
       "      <td>AARON,  JEFFERY M</td>\n",
       "      <td>SERGEANT</td>\n",
       "      <td>POLICE</td>\n",
       "      <td>F</td>\n",
       "      <td>Salary</td>\n",
       "      <td>111444</td>\n",
       "      <td>NaN</td>\n",
       "      <td>NaN</td>\n",
       "    </tr>\n",
       "    <tr>\n",
       "      <th>1</th>\n",
       "      <td>AARON,  KARINA</td>\n",
       "      <td>POLICE OFFICER (ASSIGNED AS DETECTIVE)</td>\n",
       "      <td>POLICE</td>\n",
       "      <td>F</td>\n",
       "      <td>Salary</td>\n",
       "      <td>94122</td>\n",
       "      <td>NaN</td>\n",
       "      <td>NaN</td>\n",
       "    </tr>\n",
       "    <tr>\n",
       "      <th>2</th>\n",
       "      <td>AARON,  KIMBERLEI R</td>\n",
       "      <td>CHIEF CONTRACT EXPEDITER</td>\n",
       "      <td>DAIS</td>\n",
       "      <td>F</td>\n",
       "      <td>Salary</td>\n",
       "      <td>118608</td>\n",
       "      <td>NaN</td>\n",
       "      <td>NaN</td>\n",
       "    </tr>\n",
       "    <tr>\n",
       "      <th>3</th>\n",
       "      <td>ABAD JR,  VICENTE M</td>\n",
       "      <td>CIVIL ENGINEER IV</td>\n",
       "      <td>WATER MGMNT</td>\n",
       "      <td>F</td>\n",
       "      <td>Salary</td>\n",
       "      <td>117072</td>\n",
       "      <td>NaN</td>\n",
       "      <td>NaN</td>\n",
       "    </tr>\n",
       "    <tr>\n",
       "      <th>4</th>\n",
       "      <td>ABARCA,  EMMANUEL</td>\n",
       "      <td>CONCRETE LABORER</td>\n",
       "      <td>TRANSPORTN</td>\n",
       "      <td>F</td>\n",
       "      <td>Hourly</td>\n",
       "      <td>NaN</td>\n",
       "      <td>40</td>\n",
       "      <td>44.4</td>\n",
       "    </tr>\n",
       "  </tbody>\n",
       "</table>\n",
       "</div>"
      ],
      "text/plain": [
       "                  name                              job_titles   department  \\\n",
       "0    AARON,  JEFFERY M                                SERGEANT       POLICE   \n",
       "1       AARON,  KARINA  POLICE OFFICER (ASSIGNED AS DETECTIVE)       POLICE   \n",
       "2  AARON,  KIMBERLEI R                CHIEF CONTRACT EXPEDITER         DAIS   \n",
       "3  ABAD JR,  VICENTE M                       CIVIL ENGINEER IV  WATER MGMNT   \n",
       "4    ABARCA,  EMMANUEL                        CONCRETE LABORER   TRANSPORTN   \n",
       "\n",
       "  full_or_part_time salary_or_hourly annual_salary typical_hours hourly_rate  \n",
       "0                 F           Salary        111444           NaN         NaN  \n",
       "1                 F           Salary         94122           NaN         NaN  \n",
       "2                 F           Salary        118608           NaN         NaN  \n",
       "3                 F           Salary        117072           NaN         NaN  \n",
       "4                 F           Hourly           NaN            40        44.4  "
      ]
     },
     "execution_count": 94,
     "metadata": {},
     "output_type": "execute_result"
    }
   ],
   "source": [
    "## import requests\n",
    "import requests\n",
    "\n",
    "## pandas\n",
    "import pandas as pd\n",
    "\n",
    "## fetch data\n",
    "r = requests.get('https://data.cityofchicago.org/resource/xzkq-xp2w.json?$limit=50000')\n",
    "\n",
    "## check HTTP response code\n",
    "print('HTTP Status Code: ' + str(r.status_code))\n",
    "\n",
    "## the HTTP response contains a few headers that provide additional context\n",
    "print(r.headers['Last-Modified'])\n",
    "print(r.headers['X-SODA2-Fields'])\n",
    "print(r.headers['X-SODA2-Types'])\n",
    "\n",
    "## build DataFrame from JSON response\n",
    "df = pd.DataFrame.from_dict(r.json())\n",
    "\n",
    "## review data structure\n",
    "df.head()"
   ]
  },
  {
   "cell_type": "code",
   "execution_count": null,
   "metadata": {
    "pycharm": {
     "is_executing": true,
     "name": "#%%\n"
    }
   },
   "outputs": [],
   "source": [
    "## Data Analysis"
   ]
  },
  {
   "cell_type": "code",
   "execution_count": 33,
   "metadata": {},
   "outputs": [
    {
     "name": "stdout",
     "output_type": "stream",
     "text": [
      "name                  object\n",
      "job_titles            object\n",
      "department            object\n",
      "full_or_part_time     object\n",
      "salary_or_hourly      object\n",
      "annual_salary         object\n",
      "typical_hours        float64\n",
      "hourly_rate           object\n",
      "dtype: object\n",
      "name                  object\n",
      "job_titles            object\n",
      "department            object\n",
      "full_or_part_time     object\n",
      "salary_or_hourly      object\n",
      "annual_salary        float64\n",
      "typical_hours        float64\n",
      "hourly_rate          float64\n",
      "dtype: object\n"
     ]
    }
   ],
   "source": [
    "## defualt NaN to 0\n",
    "df.fillna(0)\n",
    "\n",
    "## view datatypes\n",
    "print(df.dtypes)\n",
    "\n",
    "## cast salary, hours and rate to numeric\n",
    "df['annual_salary'] = pd.to_numeric(df['annual_salary'],errors='coerce')\n",
    "df['typical_hours'] = pd.to_numeric(df['typical_hours'],errors='coerce')\n",
    "df['hourly_rate'] = pd.to_numeric(df['hourly_rate'],errors='coerce')\n",
    "\n",
    "## view updated datatypes\n",
    "print(df.dtypes)"
   ]
  },
  {
   "cell_type": "code",
   "execution_count": 65,
   "metadata": {},
   "outputs": [
    {
     "name": "stdout",
     "output_type": "stream",
     "text": [
      "Min: 20400.0\n",
      "Mean: 89609.2195137762\n",
      "Median: 90024.0\n",
      "Max: 275004.0\n"
     ]
    },
    {
     "data": {
      "text/plain": [
       "<matplotlib.axes._subplots.AxesSubplot at 0x7fa81875a6a0>"
      ]
     },
     "execution_count": 65,
     "metadata": {},
     "output_type": "execute_result"
    },
    {
     "data": {
      "image/png": "[encoded data removed]",
      "text/plain": [
       "<Figure size 432x288 with 1 Axes>"
      ]
     },
     "metadata": {
      "needs_background": "light"
     },
     "output_type": "display_data"
    }
   ],
   "source": [
    "## create a DataFrame of salary employees\n",
    "salaried_employees = df[df['salary_or_hourly'] == 'Salary']\n",
    "\n",
    "salaried_employees.head()"
   ]
  },
  {
   "cell_type": "code",
   "execution_count": 67,
   "metadata": {},
   "outputs": [
    {
     "name": "stdout",
     "output_type": "stream",
     "text": [
      "Min: 20400.0\n",
      "Mean: 89609.2195137762\n",
      "Median: 90024.0\n",
      "Max: 275004.0\n"
     ]
    },
    {
     "data": {
      "text/plain": [
       "<matplotlib.axes._subplots.AxesSubplot at 0x7fa83b1a7880>"
      ]
     },
     "execution_count": 67,
     "metadata": {},
     "output_type": "execute_result"
    },
    {
     "data": {
      "image/png": "[encoded data removed]",
      "text/plain": [
       "<Figure size 432x288 with 1 Axes>"
      ]
     },
     "metadata": {
      "needs_background": "light"
     },
     "output_type": "display_data"
    }
   ],
   "source": [
    "print('Min: ' + str(salaried_employees['annual_salary'].min()))\n",
    "print('Mean: ' + str(salaried_employees['annual_salary'].mean()))\n",
    "print('Median: ' + str(salaried_employees['annual_salary'].median()))\n",
    "print('Max: ' + str(salaried_employees['annual_salary'].max()))\n",
    "\n",
    "salaried_employees['annual_salary'].plot(kind = 'box')"
   ]
  },
  {
   "cell_type": "code",
   "execution_count": 80,
   "metadata": {},
   "outputs": [
    {
     "name": "stdout",
     "output_type": "stream",
     "text": [
      "24428    RHEE,  JAMIE L 24428    275004.0\\nName: annual...\n",
      "Name: name, dtype: object\n",
      "24428    COMMISSIONER OF AVIATION - AVIATION\n",
      "dtype: object\n"
     ]
    }
   ],
   "source": [
    "# determine highest paid employee\n",
    "max_employee = salaried_employees[salaried_employees['annual_salary'] == salaried_employees['annual_salary'].max()]\n",
    "\n",
    "print(max_employee['name'] + ' ' + str(max_employee['annual_salary']))\n",
    "print(max_employee['job_titles'] + ' - ' + max_employee['department'])"
   ]
  },
  {
   "cell_type": "code",
   "execution_count": 86,
   "metadata": {},
   "outputs": [
    {
     "data": {
      "text/plain": [
       "<matplotlib.axes._subplots.AxesSubplot at 0x7fa8695ec1f0>"
      ]
     },
     "execution_count": 86,
     "metadata": {},
     "output_type": "execute_result"
    },
    {
     "data": {
      "image/png": "[encoded data removed]",
      "text/plain": [
       "<Figure size 432x288 with 1 Axes>"
      ]
     },
     "metadata": {},
     "output_type": "display_data"
    }
   ],
   "source": [
    "# plot pie of departments\n",
    "salaried_employees['department'].value_counts().plot(kind = 'pie')"
   ]
  },
  {
   "cell_type": "code",
   "execution_count": 87,
   "metadata": {},
   "outputs": [
    {
     "data": {
      "text/html": [
       "<div>\n",
       "<style scoped>\n",
       "    .dataframe tbody tr th:only-of-type {\n",
       "        vertical-align: middle;\n",
       "    }\n",
       "\n",
       "    .dataframe tbody tr th {\n",
       "        vertical-align: top;\n",
       "    }\n",
       "\n",
       "    .dataframe thead th {\n",
       "        text-align: right;\n",
       "    }\n",
       "</style>\n",
       "<table border=\"1\" class=\"dataframe\">\n",
       "  <thead>\n",
       "    <tr style=\"text-align: right;\">\n",
       "      <th></th>\n",
       "      <th>name</th>\n",
       "      <th>job_titles</th>\n",
       "      <th>department</th>\n",
       "      <th>full_or_part_time</th>\n",
       "      <th>salary_or_hourly</th>\n",
       "      <th>annual_salary</th>\n",
       "      <th>typical_hours</th>\n",
       "      <th>hourly_rate</th>\n",
       "    </tr>\n",
       "  </thead>\n",
       "  <tbody>\n",
       "    <tr>\n",
       "      <th>4</th>\n",
       "      <td>ABARCA,  EMMANUEL</td>\n",
       "      <td>CONCRETE LABORER</td>\n",
       "      <td>TRANSPORTN</td>\n",
       "      <td>F</td>\n",
       "      <td>Hourly</td>\n",
       "      <td>NaN</td>\n",
       "      <td>40.0</td>\n",
       "      <td>44.40</td>\n",
       "    </tr>\n",
       "    <tr>\n",
       "      <th>6</th>\n",
       "      <td>ABASCAL,  REECE E</td>\n",
       "      <td>TRAFFIC CONTROL AIDE-HOURLY</td>\n",
       "      <td>OEMC</td>\n",
       "      <td>P</td>\n",
       "      <td>Hourly</td>\n",
       "      <td>NaN</td>\n",
       "      <td>20.0</td>\n",
       "      <td>19.86</td>\n",
       "    </tr>\n",
       "    <tr>\n",
       "      <th>7</th>\n",
       "      <td>ABBATACOLA,  ROBERT J</td>\n",
       "      <td>ELECTRICAL MECHANIC</td>\n",
       "      <td>AVIATION</td>\n",
       "      <td>F</td>\n",
       "      <td>Hourly</td>\n",
       "      <td>NaN</td>\n",
       "      <td>40.0</td>\n",
       "      <td>50.00</td>\n",
       "    </tr>\n",
       "    <tr>\n",
       "      <th>10</th>\n",
       "      <td>ABBOTT,  BETTY L</td>\n",
       "      <td>FOSTER GRANDPARENT</td>\n",
       "      <td>FAMILY &amp; SUPPORT</td>\n",
       "      <td>P</td>\n",
       "      <td>Hourly</td>\n",
       "      <td>NaN</td>\n",
       "      <td>20.0</td>\n",
       "      <td>3.00</td>\n",
       "    </tr>\n",
       "    <tr>\n",
       "      <th>21</th>\n",
       "      <td>ABDULLAH,  RASHAD</td>\n",
       "      <td>ELECTRICAL MECHANIC (AUTOMOTIVE)</td>\n",
       "      <td>DAIS</td>\n",
       "      <td>F</td>\n",
       "      <td>Hourly</td>\n",
       "      <td>NaN</td>\n",
       "      <td>40.0</td>\n",
       "      <td>50.00</td>\n",
       "    </tr>\n",
       "  </tbody>\n",
       "</table>\n",
       "</div>"
      ],
      "text/plain": [
       "                     name                        job_titles        department  \\\n",
       "4       ABARCA,  EMMANUEL                  CONCRETE LABORER        TRANSPORTN   \n",
       "6       ABASCAL,  REECE E       TRAFFIC CONTROL AIDE-HOURLY              OEMC   \n",
       "7   ABBATACOLA,  ROBERT J               ELECTRICAL MECHANIC          AVIATION   \n",
       "10       ABBOTT,  BETTY L                FOSTER GRANDPARENT  FAMILY & SUPPORT   \n",
       "21      ABDULLAH,  RASHAD  ELECTRICAL MECHANIC (AUTOMOTIVE)              DAIS   \n",
       "\n",
       "   full_or_part_time salary_or_hourly  annual_salary  typical_hours  \\\n",
       "4                  F           Hourly            NaN           40.0   \n",
       "6                  P           Hourly            NaN           20.0   \n",
       "7                  F           Hourly            NaN           40.0   \n",
       "10                 P           Hourly            NaN           20.0   \n",
       "21                 F           Hourly            NaN           40.0   \n",
       "\n",
       "    hourly_rate  \n",
       "4         44.40  \n",
       "6         19.86  \n",
       "7         50.00  \n",
       "10         3.00  \n",
       "21        50.00  "
      ]
     },
     "execution_count": 87,
     "metadata": {},
     "output_type": "execute_result"
    }
   ],
   "source": [
    "## create a DataFrame of salary employees\n",
    "hourly_employees = df[df['salary_or_hourly'] == 'Hourly']\n",
    "\n",
    "hourly_employees.head()"
   ]
  },
  {
   "cell_type": "code",
   "execution_count": 88,
   "metadata": {},
   "outputs": [
    {
     "name": "stdout",
     "output_type": "stream",
     "text": [
      "Min: 3.0\n",
      "Mean: 35.192483291835586\n",
      "Median: 38.35\n",
      "Max: 128.0\n"
     ]
    }
   ],
   "source": [
    "print('Min: ' + str(hourly_employees['hourly_rate'].min()))\n",
    "print('Mean: ' + str(hourly_employees['hourly_rate'].mean()))\n",
    "print('Median: ' + str(hourly_employees['hourly_rate'].median()))\n",
    "print('Max: ' + str(hourly_employees['hourly_rate'].max()))"
   ]
  },
  {
   "cell_type": "code",
   "execution_count": 89,
   "metadata": {},
   "outputs": [
    {
     "name": "stdout",
     "output_type": "stream",
     "text": [
      "                 name    job_titles department full_or_part_time  \\\n",
      "14384  JONES,  JOHN W  PSYCHIATRIST     HEALTH                 F   \n",
      "\n",
      "      salary_or_hourly  annual_salary  typical_hours  hourly_rate  \n",
      "14384           Hourly            NaN           35.0        128.0  \n"
     ]
    }
   ],
   "source": [
    "max_hourly = hourly_employees[hourly_employees['hourly_rate'] == hourly_employees['hourly_rate'].max()]\n",
    "\n",
    "print(max_hourly)"
   ]
  },
  {
   "cell_type": "code",
   "execution_count": null,
   "metadata": {},
   "outputs": [],
   "source": [
    "# hourly_employees['department'].value_counts()\n",
    "\n",
    "# hourly_employees['department'].value_counts().plot(kind = 'hist')\n",
    "\n",
    "hourly_employees['department'].value_counts().plot(kind = 'pie')"
   ]
  }
 ],
 "metadata": {
  "kernelspec": {
   "display_name": "Python 3",
   "language": "python",
   "name": "python3"
  },
  "language_info": {
   "codemirror_mode": {
    "name": "ipython",
    "version": 3
   },
   "file_extension": ".py",
   "mimetype": "text/x-python",
   "name": "python",
   "nbconvert_exporter": "python",
   "pygments_lexer": "ipython3",
   "version": "3.8.3"
  }
 },
 "nbformat": 4,
 "nbformat_minor": 1
}
